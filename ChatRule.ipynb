{
 "cells": [
  {
   "cell_type": "code",
   "execution_count": 33,
   "id": "40cc2b8a-8d4d-48a1-87e4-1086dafd4d4b",
   "metadata": {},
   "outputs": [],
   "source": [
    "import random"
   ]
  },
  {
   "cell_type": "code",
   "execution_count": 34,
   "id": "e00c164a-6fae-4f66-b650-f987d4f89525",
   "metadata": {},
   "outputs": [],
   "source": [
    "import re"
   ]
  },
  {
   "cell_type": "code",
   "execution_count": 35,
   "id": "5b13b958-78ba-412f-829d-315c12a73630",
   "metadata": {},
   "outputs": [],
   "source": [
    "class SupportBot:\n",
    "    negative_res=(\"no\",\"nope\",\"nay\",\"not a chance\",\"sorry\")\n",
    "    exit_commands=(\"quit\",\"pause\",\"exit\",\"goodbye\",\"bye\",\"farewell\")\n",
    "    def __init__(self):\n",
    "        self.support_res= {\n",
    "            'ask_about_product': r'.*\\s*product.*',\n",
    "            'technical_support': r'.*technical_support.*',\n",
    "            'about_returns': r'.*\\s*returnpolicy.*',\n",
    "            'general_query' : r'.*how.*help.*' }\n",
    "\n",
    "    def greet(self):\n",
    "        self.name = input(\"Hello!Welcome to our customer support.What's your name?\\n\")\n",
    "        will_help = input(f\"Hi {self.name}, how can I assist you today?\\n\")\n",
    "        if will_help in self.negative_res:\n",
    "            print(\"Alright have a great day!\")\n",
    "            return\n",
    "        self.chat()\n",
    "\n",
    "    def make_exit(self,reply):\n",
    "        for command in self.exit_commands:\n",
    "            if command in reply:\n",
    "                print(\"Thanks for reaching out. Have a great day\")\n",
    "                return True\n",
    "            return False\n",
    "\n",
    "    def chat(self):\n",
    "        reply = input(\"Please tell me your query: \").lower()\n",
    "        while not self.make_exit(reply):\n",
    "            reply = input(self.match_reply(reply))\n",
    "\n",
    "\n",
    "    def match_reply(self, reply):\n",
    "        for intent, regex_pattern in self.support_res.items():\n",
    "            found_match = re.search(regex_pattern, reply)\n",
    "            if found_match and intent == 'ask_about_product':\n",
    "                return self.ask_about_product()\n",
    "            elif found_match and intent == 'technical_support':\n",
    "                return self.technical_support()\n",
    "            elif found_match and intent == 'about_returns':\n",
    "                return self.about_returns()\n",
    "            elif found_match and intent == 'general_query':\n",
    "                return self.general_query()\n",
    "        return self.no_match_intent()"
   ]
  },
  {
   "cell_type": "code",
   "execution_count": null,
   "id": "3eaf71b5-eaab-47b0-86ab-9659cef5718b",
   "metadata": {},
   "outputs": [
    {
     "name": "stdin",
     "output_type": "stream",
     "text": [
      "Hello!Welcome to our customer support.What's your name?\n",
      " Prince\n"
     ]
    }
   ],
   "source": [
    "    def ask_about_product(self):\n",
    "        responses = (\"Our product is top-notch and has excellent reviews!\\n\",\n",
    "                 \"You can find all product details on our websites\\n\",\n",
    "                 )\n",
    "        return random.choice(responses)\n",
    "\n",
    "\n",
    "    def technical_support(self):\n",
    "        responses = (\"Please visit our technical support page for detailed assistance.\\n\",\n",
    "                  \"You can also call our tech support helpline for immedate help.\\n\")\n",
    "        return random.choice(responses)\n",
    "\n",
    "    def about_returns(self):\n",
    "        responses = (\"We have a 30-day return policy.\\n\",\n",
    "                 \"Please ensure the product is in its original condition when returning.\\n\")\n",
    "        return random.choice(responses)\n",
    "\n",
    "    def general_query(self):\n",
    "        responses = (\"How can I assist you further?\\n\",\n",
    "                 \"Is there anything else you'd like to know?\\n\"\n",
    "                 )\n",
    "        return random.choice(responses)\n",
    "\n",
    "    def no_match_intent(self):\n",
    "        responses = (\"I'm sorry, I didn't quite understand that. Can you please rephrase?\\n\",\n",
    "              \"My apologies, can you provide more detail?\\n\")\n",
    "        return random.choice(responses)\n",
    "\n",
    "bot=SupportBot()\n",
    "bot.greet()\n",
    "\n",
    "\n",
    "        "
   ]
  },
  {
   "cell_type": "code",
   "execution_count": null,
   "id": "8ea60894-eb20-4520-b2be-e65ef7845049",
   "metadata": {},
   "outputs": [],
   "source": []
  }
 ],
 "metadata": {
  "kernelspec": {
   "display_name": "Python 3 (ipykernel)",
   "language": "python",
   "name": "python3"
  },
  "language_info": {
   "codemirror_mode": {
    "name": "ipython",
    "version": 3
   },
   "file_extension": ".py",
   "mimetype": "text/x-python",
   "name": "python",
   "nbconvert_exporter": "python",
   "pygments_lexer": "ipython3",
   "version": "3.9.7"
  }
 },
 "nbformat": 4,
 "nbformat_minor": 5
}
